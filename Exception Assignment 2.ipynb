{
 "cells": [
  {
   "cell_type": "markdown",
   "id": "92732790-5f26-4de0-aa21-5dcf3fa1f510",
   "metadata": {},
   "source": [
    "### Q1. Explain why we have to use the Exception class while creating a Custom Exception."
   ]
  },
  {
   "cell_type": "code",
   "execution_count": null,
   "id": "ca268f66-718c-4a53-9a29-1729e77b1d96",
   "metadata": {},
   "outputs": [],
   "source": [
    "Using the Exception class as a base when creating a custom exception is necessary because it ensures that your custom exception inherits essential \n",
    "exception-handling behavior and characteristics."
   ]
  },
  {
   "cell_type": "markdown",
   "id": "bab26fb7-f190-4cac-b622-744ef574a6a4",
   "metadata": {},
   "source": [
    "#### Q2. Write a python program to print Python Exception Hierarchy."
   ]
  },
  {
   "cell_type": "code",
   "execution_count": 1,
   "id": "21b8afaa-86e2-450c-b04f-977450a91796",
   "metadata": {},
   "outputs": [
    {
     "name": "stdout",
     "output_type": "stream",
     "text": [
      "BaseException\n",
      "  object\n"
     ]
    }
   ],
   "source": [
    "def print_exception_hierarchy(exception_class, indent=0):\n",
    "    print('  ' * indent + exception_class.__name__)\n",
    "    for base_exception in exception_class.__bases__:\n",
    "        print_exception_hierarchy(base_exception, indent + 1)\n",
    "\n",
    "print_exception_hierarchy(BaseException)"
   ]
  },
  {
   "cell_type": "markdown",
   "id": "51af26a3-a44b-45ea-a379-07ce26da1cc4",
   "metadata": {},
   "source": [
    "#### Q3. What errors are defined in the ArithmeticError class? Explain any two with an example."
   ]
  },
  {
   "cell_type": "code",
   "execution_count": 2,
   "id": "1f55a322-1392-4f25-8ab8-5e564b534775",
   "metadata": {},
   "outputs": [
    {
     "name": "stdout",
     "output_type": "stream",
     "text": [
      "division by zero\n"
     ]
    }
   ],
   "source": [
    "#In ArithmeticError class basically there are two errors \"ZeroDivisionError\" and \"OverflowError\".\n",
    "try:\n",
    "    a = 10\n",
    "    10/0\n",
    "except ZeroDivisionError as e:\n",
    "    print(e)"
   ]
  },
  {
   "cell_type": "code",
   "execution_count": 7,
   "id": "041aa60a-5afe-43d6-9377-3b2f252f5853",
   "metadata": {},
   "outputs": [],
   "source": [
    "import sys \n",
    "try:\n",
    "    10 ** 10000\n",
    "except OverflowError as e:\n",
    "    print(f\"Error: {e}\")"
   ]
  },
  {
   "cell_type": "markdown",
   "id": "a95885b4-d558-4d2f-8fbc-3285636522eb",
   "metadata": {},
   "source": [
    "### Q4. Why LookupError class is used? Explain with an example KeyError and IndexError."
   ]
  },
  {
   "cell_type": "code",
   "execution_count": null,
   "id": "fe74a6ff-669f-4fb7-ab07-33d65372795d",
   "metadata": {},
   "outputs": [],
   "source": [
    "The LookupError class is a base class for exceptions that occur when trying to access an item or element from a collection, such as a dictionary, list,\n",
    "or tuple, and the item is not found."
   ]
  },
  {
   "cell_type": "code",
   "execution_count": 8,
   "id": "6342b172-cdc8-4d2e-87a7-5fa79f64ea3c",
   "metadata": {},
   "outputs": [
    {
     "name": "stdout",
     "output_type": "stream",
     "text": [
      "Error: 'email'\n"
     ]
    }
   ],
   "source": [
    "my_dict = {\"name\": \"Alice\", \"age\": 30}\n",
    "\n",
    "try:\n",
    "    value = my_dict[\"email\"]  # This will raise KeyError\n",
    "except KeyError as e:\n",
    "    print(f\"Error: {e}\")\n"
   ]
  },
  {
   "cell_type": "code",
   "execution_count": 9,
   "id": "3cf53ce9-f473-4b39-a8d7-d450c2345b6f",
   "metadata": {},
   "outputs": [
    {
     "name": "stdout",
     "output_type": "stream",
     "text": [
      "Error: list index out of range\n"
     ]
    }
   ],
   "source": [
    "my_list = [1, 2, 3]\n",
    "\n",
    "try:\n",
    "    value = my_list[5]  # This will raise IndexError\n",
    "except IndexError as e:\n",
    "    print(f\"Error: {e}\")\n"
   ]
  },
  {
   "cell_type": "markdown",
   "id": "d6403e39-05bb-4175-99ab-337a0f8539bb",
   "metadata": {},
   "source": [
    "### Q5. Explain ImportError. What is ModuleNotFoundError?"
   ]
  },
  {
   "cell_type": "code",
   "execution_count": null,
   "id": "95ccfd0b-8970-4cb2-933a-93fb969b6351",
   "metadata": {},
   "outputs": [],
   "source": [
    "ImportError is a general exception that is raised when there's an issue with importing a module that is not further specified by a more specific\n",
    "exception.\n",
    "ModuleNotFoundError is a more specific exception. It is raised when Python cannot find the module or package you are trying to import."
   ]
  },
  {
   "cell_type": "markdown",
   "id": "797e5434-104c-41e8-8413-e0dfb44c7c0f",
   "metadata": {},
   "source": [
    "### Q6. List down some best practices for exception handling in python."
   ]
  },
  {
   "cell_type": "code",
   "execution_count": null,
   "id": "3d19be4e-6c75-4646-8b02-1a314cb7e96c",
   "metadata": {},
   "outputs": [],
   "source": [
    "Use Specific Exceptions\n",
    "Avoid Bare except\n",
    "Handle Exceptions Gracefully\n",
    "Use finally\n",
    "Keep try Blocks Minimal\n",
    "Avoid Exception Propagation\n",
    "Use Custom Exceptions\n",
    "Try-Except-Else\n",
    "Documentation"
   ]
  }
 ],
 "metadata": {
  "kernelspec": {
   "display_name": "Python 3 (ipykernel)",
   "language": "python",
   "name": "python3"
  },
  "language_info": {
   "codemirror_mode": {
    "name": "ipython",
    "version": 3
   },
   "file_extension": ".py",
   "mimetype": "text/x-python",
   "name": "python",
   "nbconvert_exporter": "python",
   "pygments_lexer": "ipython3",
   "version": "3.10.8"
  }
 },
 "nbformat": 4,
 "nbformat_minor": 5
}
